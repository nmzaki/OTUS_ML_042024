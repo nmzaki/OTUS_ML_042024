{
 "cells": [
  {
   "cell_type": "markdown",
   "metadata": {},
   "source": [
    "# <center> Homework 2 </center>"
   ]
  },
  {
   "cell_type": "code",
   "execution_count": 1,
   "metadata": {},
   "outputs": [],
   "source": [
    "# autoreload позволяет нам подгружать изменения во внешнем коде\n",
    "# без необходимости перезагружать kernel у ноутбука\n",
    "%load_ext autoreload\n",
    "%autoreload 2"
   ]
  },
  {
   "cell_type": "markdown",
   "metadata": {},
   "source": [
    "## 1) Exceptions\n",
    "В модуле `exceptions` объявите следующие исключения:\n",
    "- LowFuelError\n",
    "- NotEnoughFuel\n",
    "- CargoOverload"
   ]
  },
  {
   "cell_type": "code",
   "execution_count": 10,
   "metadata": {},
   "outputs": [],
   "source": [
    "import exceptions"
   ]
  },
  {
   "cell_type": "markdown",
   "metadata": {},
   "source": [
    "## 2) Vehicle \n",
    "\n",
    "<img src=\"https://cs.pikabu.ru/images/big_size_comm/2013-12_4/13874526438897.jpg\" width=300>\n",
    "\n",
    "Доработайте базовый класс `Vehicle`:\n",
    "- добавьте атрибуты `weight`, `started`, `fuel`, `fuel_consumption` со значениями по умолчанию\n",
    "- добавьте инициализатор для установки `weight`, `fuel`, `fuel_consumption`\n",
    "- добавьте метод `start`, который, если ещё не состояние `started`, проверяет, что топлива больше нуля, \n",
    "  и обновляет состояние `started`, иначе выкидывает исключение `exceptions.LowFuelError`\n",
    "- добавьте метод `move`, который проверяет, \n",
    "  что достаточно топлива для преодоления переданной дистанции, \n",
    "  и изменяет количество оставшегося топлива, иначе выкидывает исключение `exceptions.NotEnoughFuel`"
   ]
  },
  {
   "cell_type": "code",
   "execution_count": 14,
   "metadata": {},
   "outputs": [
    {
     "name": "stdout",
     "output_type": "stream",
     "text": [
      "{'weight': 2000, 'started': False, 'fuel': 100, 'fuel_consumption': 10}\n",
      "{'weight': 2000, 'started': True, 'fuel': 100, 'fuel_consumption': 10}\n",
      "{'weight': 2000, 'started': True, 'fuel': 50, 'fuel_consumption': 10}\n"
     ]
    },
    {
     "ename": "NotEnoughFuel",
     "evalue": "not enough fuel for given distance, need 1000",
     "output_type": "error",
     "traceback": [
      "\u001b[0;31m---------------------------------------------------------------------------\u001b[0m",
      "\u001b[0;31mNotEnoughFuel\u001b[0m                             Traceback (most recent call last)",
      "Cell \u001b[0;32mIn[14], line 29\u001b[0m\n\u001b[1;32m     27\u001b[0m vehicle\u001b[38;5;241m.\u001b[39mmove(\u001b[38;5;241m5\u001b[39m)\n\u001b[1;32m     28\u001b[0m \u001b[38;5;28mprint\u001b[39m(\u001b[38;5;28mvars\u001b[39m(vehicle))\n\u001b[0;32m---> 29\u001b[0m \u001b[43mvehicle\u001b[49m\u001b[38;5;241;43m.\u001b[39;49m\u001b[43mmove\u001b[49m\u001b[43m(\u001b[49m\u001b[38;5;241;43m100\u001b[39;49m\u001b[43m)\u001b[49m\n\u001b[1;32m     30\u001b[0m \u001b[38;5;28mprint\u001b[39m(\u001b[38;5;28mvars\u001b[39m(vehicle))\n",
      "Cell \u001b[0;32mIn[14], line 21\u001b[0m, in \u001b[0;36mVehicle.move\u001b[0;34m(self, distance)\u001b[0m\n\u001b[1;32m     19\u001b[0m     \u001b[38;5;28mself\u001b[39m\u001b[38;5;241m.\u001b[39mfuel \u001b[38;5;241m-\u001b[39m\u001b[38;5;241m=\u001b[39m distance \u001b[38;5;241m*\u001b[39m \u001b[38;5;28mself\u001b[39m\u001b[38;5;241m.\u001b[39mfuel_consumption \n\u001b[1;32m     20\u001b[0m \u001b[38;5;28;01melse\u001b[39;00m:\n\u001b[0;32m---> 21\u001b[0m     \u001b[38;5;28;01mraise\u001b[39;00m exceptions\u001b[38;5;241m.\u001b[39mNotEnoughFuel(\u001b[38;5;124mf\u001b[39m\u001b[38;5;124m'\u001b[39m\u001b[38;5;124mnot enough fuel for given distance, need \u001b[39m\u001b[38;5;132;01m{\u001b[39;00mdistance\u001b[38;5;250m \u001b[39m\u001b[38;5;241m*\u001b[39m\u001b[38;5;250m \u001b[39m\u001b[38;5;28mself\u001b[39m\u001b[38;5;241m.\u001b[39mfuel_consumption\u001b[38;5;132;01m}\u001b[39;00m\u001b[38;5;124m'\u001b[39m)\n",
      "\u001b[0;31mNotEnoughFuel\u001b[0m: not enough fuel for given distance, need 1000"
     ]
    }
   ],
   "source": [
    "from abc import ABC\n",
    "\n",
    "\n",
    "class Vehicle(ABC):\n",
    "    def __init__(self, weight=2000, started=False, fuel=100, fuel_consumption=10):\n",
    "        self.weight = weight\n",
    "        self.started = started\n",
    "        self.fuel = fuel\n",
    "        self.fuel_consumption = fuel_consumption\n",
    "\n",
    "    def start(self):\n",
    "        if self.started is False and self.fuel > 0:\n",
    "            self.started = True\n",
    "        else:\n",
    "            raise exceptions.LowFuelError(f'fuel = {self.fuel}')\n",
    "\n",
    "    def move(self, distance):\n",
    "        if distance * self.fuel_consumption <= self.fuel and self.started is True:\n",
    "            self.fuel -= distance * self.fuel_consumption \n",
    "        else:\n",
    "            raise exceptions.NotEnoughFuel(f'not enough fuel for given distance, need {distance * self.fuel_consumption}')\n",
    "\n",
    "vehicle = Vehicle()\n",
    "print(vars(vehicle))\n",
    "vehicle.start()\n",
    "print(vars(vehicle))\n",
    "vehicle.move(5)\n",
    "print(vars(vehicle))\n",
    "vehicle.move(100)\n",
    "print(vars(vehicle))"
   ]
  },
  {
   "cell_type": "markdown",
   "metadata": {},
   "source": [
    "## 3) Engine \n",
    "\n",
    "<img src=\"https://upload.wikimedia.org/wikipedia/commons/6/6f/National_gas_engine_%28Rankin_Kennedy%2C_Modern_Engines%2C_Vol_II%29.jpg\" width=250>\n",
    "\n",
    "Создайте датакласс `Engine`, добавьте атрибуты `volume` и `pistons`"
   ]
  },
  {
   "cell_type": "code",
   "execution_count": 7,
   "metadata": {},
   "outputs": [
    {
     "name": "stdout",
     "output_type": "stream",
     "text": [
      "Engine(volume=3.5, pistons=8)\n"
     ]
    }
   ],
   "source": [
    "\"\"\"\n",
    "create dataclass `Engine`\n",
    "\"\"\"\n",
    "from dataclasses import dataclass\n",
    "\n",
    "@dataclass\n",
    "class Engine:\n",
    "    volume: (float, int)\n",
    "    pistons: int\n",
    "\n",
    "\n",
    "non_set_engine = Engine(volume = 3.5, pistons = 8)\n",
    "print(non_set_engine)"
   ]
  },
  {
   "cell_type": "markdown",
   "metadata": {},
   "source": [
    "## 4) Car \n",
    "\n",
    "<img src=\"https://lh3.googleusercontent.com/proxy/RJqzSJqZFQrx7xOXimZQ4ooInGE6ViJdwz7JZZ_b__Eun-stRH2NMw47fM4je2hL1afRtmpKS9kZUVY0p2YcaZVtJ7bKRw3wWHRRa6zVUbeIb5TYLNkwx5A\" width=250>\n",
    "\n",
    "Cоздайте класс `Car`\n",
    "    - класс `Car` должен быть наследником `Vehicle`\n",
    "    - добавьте атрибут `engine` классу `Car`\n",
    "    - объявите метод `set_engine`, который принимает в себя экземпляр объекта `Engine` и устанавливает на текущий экземпляр `Car`"
   ]
  },
  {
   "cell_type": "code",
   "execution_count": 12,
   "metadata": {},
   "outputs": [
    {
     "name": "stdout",
     "output_type": "stream",
     "text": [
      "{'weight': 2000, 'started': False, 'fuel': 10, 'fuel_consumption': 10, 'engine': None}\n",
      "{'weight': 2000, 'started': False, 'fuel': 10, 'fuel_consumption': 10, 'engine': Engine(volume=3.5, pistons=8)}\n",
      "{'weight': 2000, 'started': True, 'fuel': 10, 'fuel_consumption': 10, 'engine': Engine(volume=3.5, pistons=8)}\n"
     ]
    }
   ],
   "source": [
    "\"\"\"\n",
    "создайте класс `Car`, наследник `Vehicle`\n",
    "\"\"\"\n",
    "class Car(Vehicle):\n",
    "    def __init__(self, weight, started, fuel, fuel_consumption, engine):\n",
    "        super().__init__(weight, started, fuel, fuel_consumption)\n",
    "        self.engine = engine\n",
    "\n",
    "    def set_engine(self, non_set_engine):\n",
    "            if self.engine is None:\n",
    "                self.engine = non_set_engine\n",
    "            else:\n",
    "                print('Error')\n",
    "\n",
    "\n",
    "car = Car(weight=2000, started=False, fuel=10, fuel_consumption=10, engine=None)\n",
    "print(vars(car))\n",
    "car.set_engine(non_set_engine)\n",
    "print(vars(car))\n",
    "car.start()\n",
    "print(vars(car))"
   ]
  },
  {
   "cell_type": "markdown",
   "metadata": {},
   "source": [
    "## 5) Plane\n",
    "\n",
    "<img src=\"http://www.weirduniverse.net/images/2017/1934parachute02.jpg\" width=250>\n",
    "\n",
    "Создайте класс `Plane`\n",
    "- класс `Plane` должен быть наследником `Vehicle`\n",
    "- добавьте атрибуты `cargo` и `max_cargo` классу `Plane`\n",
    "- добавьте `max_cargo` в инициализатор (переопределите родительский)\n",
    "- объявите метод `load_cargo`, который принимает число, проверяет, что в сумме с текущим `cargo` не будет перегруза, и обновляет значение, в ином случае выкидывает исключение `exceptions.CargoOverload`\n",
    "- объявите метод `remove_all_cargo`, который обнуляет значение `cargo` и возвращает значение `cargo`, которое было до обнуления"
   ]
  },
  {
   "cell_type": "code",
   "execution_count": 15,
   "metadata": {},
   "outputs": [
    {
     "name": "stdout",
     "output_type": "stream",
     "text": [
      "{'weight': 2000, 'started': False, 'fuel': 100, 'fuel_consumption': 10, 'cargo': 1000, 'max_cargo': 1500}\n",
      "{'weight': 2000, 'started': True, 'fuel': 100, 'fuel_consumption': 10, 'cargo': 1500, 'max_cargo': 1500}\n",
      "all cargo removed, cargo weight before removing was 1500\n",
      "{'weight': 2000, 'started': True, 'fuel': 100, 'fuel_consumption': 10, 'cargo': 0, 'max_cargo': 1500}\n"
     ]
    }
   ],
   "source": [
    "\"\"\"\n",
    "создайте класс `Plane`, наследник `Vehicle`\n",
    "\"\"\"\n",
    "\n",
    "class Plane(Vehicle):\n",
    "    def __init__(self, weight=2000, started=False, fuel=100, fuel_consumption=10, cargo=1000, max_cargo=1500):\n",
    "        super().__init__(weight, started, fuel, fuel_consumption)\n",
    "        self.cargo = cargo\n",
    "        self.max_cargo = max_cargo\n",
    "\n",
    "    def load_cargo(self, weight):\n",
    "        if self.cargo + weight <= self.max_cargo:\n",
    "            self.cargo += weight\n",
    "        else:\n",
    "            raise exceptions.CargoOverload(f'cargo overloaded, required maximal cargo weight {self.max_cargo}')\n",
    "\n",
    "    def remove_all_cargo(self):\n",
    "        cargo_brfore_remove = self.cargo\n",
    "        self.cargo = 0\n",
    "        print(f'all cargo removed, cargo weight before removing was {cargo_brfore_remove}')\n",
    "\n",
    "plane = Plane()\n",
    "print(vars(plane))\n",
    "plane.start()\n",
    "plane.load_cargo(500)\n",
    "print(vars(plane))\n",
    "plane.remove_all_cargo()\n",
    "print(vars(plane))"
   ]
  }
 ],
 "metadata": {
  "kernelspec": {
   "display_name": "Python 3 (ipykernel)",
   "language": "python",
   "name": "python3"
  },
  "language_info": {
   "codemirror_mode": {
    "name": "ipython",
    "version": 3
   },
   "file_extension": ".py",
   "mimetype": "text/x-python",
   "name": "python",
   "nbconvert_exporter": "python",
   "pygments_lexer": "ipython3",
   "version": "3.12.3"
  },
  "varInspector": {
   "cols": {
    "lenName": 16,
    "lenType": 16,
    "lenVar": 40
   },
   "kernels_config": {
    "python": {
     "delete_cmd_postfix": "",
     "delete_cmd_prefix": "del ",
     "library": "var_list.py",
     "varRefreshCmd": "print(var_dic_list())"
    },
    "r": {
     "delete_cmd_postfix": ") ",
     "delete_cmd_prefix": "rm(",
     "library": "var_list.r",
     "varRefreshCmd": "cat(var_dic_list()) "
    }
   },
   "types_to_exclude": [
    "module",
    "function",
    "builtin_function_or_method",
    "instance",
    "_Feature"
   ],
   "window_display": false
  }
 },
 "nbformat": 4,
 "nbformat_minor": 4
}
